{
 "cells": [
  {
   "cell_type": "code",
   "execution_count": null,
   "id": "98ebb246",
   "metadata": {},
   "outputs": [
    {
     "name": "stdout",
     "output_type": "stream",
     "text": [
      "['data/Vivosight_data/A52_2_Results', 'data/Vivosight_data/A52_Results']\n",
      "L1260 False 0.0769208\n",
      "L1260 False 0.0817651\n",
      "L1259 False 0.107121\n",
      "L1258 False 0.0969844\n",
      "L1257 False 0.0794578\n",
      "L1260 False 0.0899083\n",
      "L1257 False 0.0958747\n",
      "L1259 False 0.10625\n",
      "L1257 False 0.0953848\n",
      "L1260 False 0.0952842\n",
      "L1260 False 0.077149\n",
      "L1258 False 0.108149\n",
      "L1257 False 0.0822088\n",
      "L1257 False 0.101482\n",
      "L1258 False 0.117645\n",
      "L1259 False 0.0965009\n",
      "L1258 False 0.129394\n",
      "L1257 False 0.101808\n",
      "L1260 False 0.0759623\n",
      "L1258 False 0.11159\n",
      "L1259 False 0.0757032\n",
      "L1258 False 0.0977158\n",
      "L1259 False 0.0973711\n",
      "L1259 False 0.0955167\n"
     ]
    }
   ],
   "source": [
    "import data_read\n",
    "\n",
    "\n",
    "# Example for Vivosight and Bloodflow Data\n",
    "vivosight_location = \"data/Vivosight_data/\"\n",
    "subject = \"A52\"\n",
    "subject_folder = data_read.collect_subject_vivosight_folder(subject, vivosight_location)\n",
    "print(subject_folder)\n",
    "subject_data = data_read.process_subject_vivosight_data(subject_folder[1], \"bloodflow\")\n",
    "# change from 0 to 1 when there is return visits to indicate which set of scans looking at.\n",
    "for blood_data in subject_data.blood_flow:\n",
    "# subject_data.blood_flow[0].plot_vascular_density(subject_data.subject_id, False)\n",
    "    blood_data.get_max_density()\n",
    "    print(blood_data.location,blood_data.return_visit,blood_data.max_density)\n"
   ]
  },
  {
   "cell_type": "code",
   "execution_count": null,
   "id": "a51b1108",
   "metadata": {},
   "outputs": [],
   "source": [
    "\n"
   ]
  }
 ],
 "metadata": {
  "kernelspec": {
   "display_name": "Python 3",
   "language": "python",
   "name": "python3"
  },
  "language_info": {
   "codemirror_mode": {
    "name": "ipython",
    "version": 3
   },
   "file_extension": ".py",
   "mimetype": "text/x-python",
   "name": "python",
   "nbconvert_exporter": "python",
   "pygments_lexer": "ipython3",
   "version": "3.12.1"
  }
 },
 "nbformat": 4,
 "nbformat_minor": 5
}
