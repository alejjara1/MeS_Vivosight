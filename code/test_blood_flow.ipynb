{
 "cells": [
  {
   "cell_type": "code",
   "execution_count": 18,
   "id": "98ebb246",
   "metadata": {},
   "outputs": [
    {
     "name": "stdout",
     "output_type": "stream",
     "text": [
      "1301 1 True 0.0971852 False 1\n",
      "1306 2 True 0.0859385 False 2\n",
      "1322 3 True 0.070473 True 3\n",
      "1308 3 True 0.080274 False 3\n",
      "1327 4 True 0.0813193 True 4\n",
      "1310 4 True 0.0784987 False 4\n",
      "1316 1 True 0.0694945 True 1\n",
      "1307 3 True 0.0873177 False 3\n",
      "1309 3 True 0.065049 False 3\n",
      "1326 4 True 0.0741074 True 4\n",
      "1319 2 True 0.071571 True 2\n",
      "1325 4 True 0.0723494 True 4\n",
      "1314 1 True 0.0768333 True 1\n",
      "1312 4 True 0.0798931 False 4\n",
      "1304 2 True 0.0951676 False 2\n",
      "1303 1 True 0.0746955 False 1\n",
      "1313 4 True 0.0958716 False 4\n",
      "1315 1 True 0.0759679 True 1\n",
      "1318 2 True 0.0715157 True 2\n",
      "1320 2 True 0.0684866 True 2\n",
      "1321 3 True 0.070483 True 3\n",
      "1324 3 True 0.057801 True 3\n",
      "1305 2 True 0.0989978 False 2\n",
      "1302 1 True 0.0794829 False 1\n"
     ]
    }
   ],
   "source": [
    "import data_read\n",
    "import importlib\n",
    "\n",
    "importlib.reload(data_read)\n",
    "\n",
    "\n",
    "# Example for Vivosight and Bloodflow Data\n",
    "vivosight_folder = \"data/Vivosight_data/\"\n",
    "scan_folder = \"data/scan_information/\"\n",
    "\n",
    "# For one subject\n",
    "subject_id = \"A52\"\n",
    "subject_folder, scan_folder = data_read.collect_subject_vivosight_folder(subject_id, vivosight_folder, scan_folder)\n",
    "\n",
    "subject_data = data_read.process_subject_vivosight_data(subject_folder[0],scan_folder[0], \"bloodflow\")\n",
    "\n",
    "# change from 0 to 1 when there is return visits to indicate which set of scans looking at.\n",
    "for blood_data in subject_data.blood_flow:\n",
    "    # blood_data.plot_vascular_density(subject_data.subject_id, False)\n",
    "    blood_data.get_max_density()\n",
    "    print(blood_data.scan_id, blood_data.location, blood_data.return_visit,blood_data.max_density, blood_data.exposed, blood_data.location)"
   ]
  },
  {
   "cell_type": "code",
   "execution_count": null,
   "id": "c8750ac3",
   "metadata": {},
   "outputs": [
    {
     "name": "stdout",
     "output_type": "stream",
     "text": [
      "A52_2\n",
      "W40\n",
      "M16_2\n",
      "F12\n",
      "L71_2\n",
      "B05_2\n",
      "P38\n",
      "B05\n",
      "U34\n",
      "R09\n",
      "U34_2\n",
      "N64\n",
      "L81_2\n",
      "L71\n",
      "C14\n",
      "E50\n",
      "Z47\n",
      "E11\n",
      "T98\n",
      "L81\n",
      "G07_2\n",
      "A52\n",
      "G07\n",
      "D47\n",
      "Y20\n",
      "R98\n",
      "R98_2\n",
      "M16\n",
      "S88\n"
     ]
    }
   ],
   "source": [
    "vivosight_folder = \"data/Vivosight_data/\"\n",
    "scan_folder = \"data/scan_information/\"\n",
    "\n",
    "#For all subjects\n",
    "subject_ids = data_read.get_all_subject_ids(vivosight_folder)\n",
    "subjects_data = {}\n",
    "for subject_id in subject_ids:\n",
    "    subject_folder, scan_folder = data_read.collect_subject_vivosight_folder(subject_id, vivosight_folder, scan_folder)\n",
    "    print(subject_id)\n",
    "    # subjects_data[subject_id] = data_read.process_subject_vivosight_data(subject_folder,scan_folder, \"bloodflow\")\n",
    "\n"
   ]
  },
  {
   "cell_type": "code",
   "execution_count": null,
   "id": "a6885653",
   "metadata": {},
   "outputs": [],
   "source": []
  }
 ],
 "metadata": {
  "kernelspec": {
   "display_name": "Python 3",
   "language": "python",
   "name": "python3"
  },
  "language_info": {
   "codemirror_mode": {
    "name": "ipython",
    "version": 3
   },
   "file_extension": ".py",
   "mimetype": "text/x-python",
   "name": "python",
   "nbconvert_exporter": "python",
   "pygments_lexer": "ipython3",
   "version": "3.12.1"
  }
 },
 "nbformat": 4,
 "nbformat_minor": 5
}
