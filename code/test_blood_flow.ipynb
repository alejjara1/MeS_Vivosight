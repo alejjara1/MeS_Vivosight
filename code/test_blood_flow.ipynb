{
 "cells": [
  {
   "cell_type": "code",
   "execution_count": 18,
   "id": "98ebb246",
   "metadata": {},
   "outputs": [
    {
     "name": "stdout",
     "output_type": "stream",
     "text": [
      "1301 1 True 0.0971852 False 1\n",
      "1306 2 True 0.0859385 False 2\n",
      "1322 3 True 0.070473 True 3\n",
      "1308 3 True 0.080274 False 3\n",
      "1327 4 True 0.0813193 True 4\n",
      "1310 4 True 0.0784987 False 4\n",
      "1316 1 True 0.0694945 True 1\n",
      "1307 3 True 0.0873177 False 3\n",
      "1309 3 True 0.065049 False 3\n",
      "1326 4 True 0.0741074 True 4\n",
      "1319 2 True 0.071571 True 2\n",
      "1325 4 True 0.0723494 True 4\n",
      "1314 1 True 0.0768333 True 1\n",
      "1312 4 True 0.0798931 False 4\n",
      "1304 2 True 0.0951676 False 2\n",
      "1303 1 True 0.0746955 False 1\n",
      "1313 4 True 0.0958716 False 4\n",
      "1315 1 True 0.0759679 True 1\n",
      "1318 2 True 0.0715157 True 2\n",
      "1320 2 True 0.0684866 True 2\n",
      "1321 3 True 0.070483 True 3\n",
      "1324 3 True 0.057801 True 3\n",
      "1305 2 True 0.0989978 False 2\n",
      "1302 1 True 0.0794829 False 1\n"
     ]
    }
   ],
   "source": [
    "import data_read\n",
    "import importlib\n",
    "\n",
    "importlib.reload(data_read)\n",
    "\n",
    "\n",
    "# Example for Vivosight and Bloodflow Data\n",
    "vivosight_folder = \"data/Vivosight_data/\"\n",
    "scan_folder = \"data/scan_information/\"\n",
    "\n",
    "# For one subject\n",
    "subject_id = \"A52\"\n",
    "subject_folder, scan_folder = data_read.collect_subject_vivosight_folder(subject_id, vivosight_folder, scan_folder)\n",
    "\n",
    "subject_data = data_read.process_subject_vivosight_data(subject_folder[0],scan_folder[0], \"bloodflow\")\n",
    "\n",
    "# change from 0 to 1 when there is return visits to indicate which set of scans looking at.\n",
    "for blood_data in subject_data.blood_flow:\n",
    "    # blood_data.plot_vascular_density(subject_data.subject_id, False)\n",
    "    blood_data.get_max_density()\n",
    "    print(blood_data.scan_id, blood_data.location, blood_data.return_visit,blood_data.max_density, blood_data.exposed, blood_data.location)"
   ]
  },
  {
   "cell_type": "code",
   "execution_count": null,
   "id": "c8750ac3",
   "metadata": {},
   "outputs": [
    {
     "ename": "TypeError",
     "evalue": "can only concatenate list (not \"str\") to list",
     "output_type": "error",
     "traceback": [
      "\u001b[0;31m---------------------------------------------------------------------------\u001b[0m",
      "\u001b[0;31mTypeError\u001b[0m                                 Traceback (most recent call last)",
      "Cell \u001b[0;32mIn[22], line 8\u001b[0m\n\u001b[1;32m      6\u001b[0m subjects_data \u001b[38;5;241m=\u001b[39m {}\n\u001b[1;32m      7\u001b[0m \u001b[38;5;28;01mfor\u001b[39;00m subject_id \u001b[38;5;129;01min\u001b[39;00m subject_ids:\n\u001b[0;32m----> 8\u001b[0m     subject_folder, scan_folder \u001b[38;5;241m=\u001b[39m \u001b[43mdata_read\u001b[49m\u001b[38;5;241;43m.\u001b[39;49m\u001b[43mcollect_subject_vivosight_folder\u001b[49m\u001b[43m(\u001b[49m\u001b[43msubject_id\u001b[49m\u001b[43m,\u001b[49m\u001b[43m \u001b[49m\u001b[43mvivosight_folder\u001b[49m\u001b[43m,\u001b[49m\u001b[43m \u001b[49m\u001b[43mscan_folder\u001b[49m\u001b[43m)\u001b[49m\n\u001b[1;32m      9\u001b[0m     subjects_data[subject_id] \u001b[38;5;241m=\u001b[39m data_read\u001b[38;5;241m.\u001b[39mprocess_subject_vivosight_data(subject_folder[\u001b[38;5;241m0\u001b[39m],scan_folder[\u001b[38;5;241m0\u001b[39m], \u001b[38;5;124m\"\u001b[39m\u001b[38;5;124mbloodflow\u001b[39m\u001b[38;5;124m\"\u001b[39m)\n",
      "File \u001b[0;32m~/Desktop/vivosight/MeS_Vivosight/code/data_read.py:18\u001b[0m, in \u001b[0;36mcollect_subject_vivosight_folder\u001b[0;34m(subject, vivosight_path, scan_path)\u001b[0m\n\u001b[1;32m     11\u001b[0m directory \u001b[38;5;241m=\u001b[39m Path(vivosight_path)\n\u001b[1;32m     12\u001b[0m matching_folders \u001b[38;5;241m=\u001b[39m [\n\u001b[1;32m     13\u001b[0m     vivosight_path \u001b[38;5;241m+\u001b[39m folder\u001b[38;5;241m.\u001b[39mname\n\u001b[1;32m     14\u001b[0m     \u001b[38;5;28;01mfor\u001b[39;00m folder \u001b[38;5;129;01min\u001b[39;00m directory\u001b[38;5;241m.\u001b[39miterdir()\n\u001b[1;32m     15\u001b[0m     \u001b[38;5;28;01mif\u001b[39;00m folder\u001b[38;5;241m.\u001b[39mis_dir() \u001b[38;5;129;01mand\u001b[39;00m folder\u001b[38;5;241m.\u001b[39mname\u001b[38;5;241m.\u001b[39mstartswith(subject)\n\u001b[1;32m     16\u001b[0m ]\n\u001b[0;32m---> 18\u001b[0m scan_folder \u001b[38;5;241m=\u001b[39m \u001b[43mcollect_subject_scan_folder\u001b[49m\u001b[43m(\u001b[49m\u001b[43msubject\u001b[49m\u001b[43m,\u001b[49m\u001b[43m \u001b[49m\u001b[43mscan_path\u001b[49m\u001b[43m)\u001b[49m\n\u001b[1;32m     20\u001b[0m \u001b[38;5;28;01mreturn\u001b[39;00m matching_folders,scan_folder\n",
      "File \u001b[0;32m~/Desktop/vivosight/MeS_Vivosight/code/data_read.py:26\u001b[0m, in \u001b[0;36mcollect_subject_scan_folder\u001b[0;34m(subject, scan_path)\u001b[0m\n\u001b[1;32m     23\u001b[0m \u001b[38;5;28;01mdef\u001b[39;00m\u001b[38;5;250m \u001b[39m\u001b[38;5;21mcollect_subject_scan_folder\u001b[39m(subject: \u001b[38;5;28mstr\u001b[39m, scan_path: \u001b[38;5;28mstr\u001b[39m):\n\u001b[1;32m     25\u001b[0m     matching_folders \u001b[38;5;241m=\u001b[39m []\n\u001b[0;32m---> 26\u001b[0m     files \u001b[38;5;241m=\u001b[39m glob\u001b[38;5;241m.\u001b[39mglob(\u001b[43mscan_path\u001b[49m\u001b[43m \u001b[49m\u001b[38;5;241;43m+\u001b[39;49m\u001b[43m \u001b[49m\u001b[38;5;124;43m\"\u001b[39;49m\u001b[38;5;124;43m/*\u001b[39;49m\u001b[38;5;124;43m\"\u001b[39;49m)\n\u001b[1;32m     27\u001b[0m     \u001b[38;5;28;01mfor\u001b[39;00m file \u001b[38;5;129;01min\u001b[39;00m files:\n\u001b[1;32m     28\u001b[0m         \u001b[38;5;28;01mif\u001b[39;00m subject \u001b[38;5;129;01min\u001b[39;00m file:\n",
      "\u001b[0;31mTypeError\u001b[0m: can only concatenate list (not \"str\") to list"
     ]
    }
   ],
   "source": [
    "vivosight_folder = \"data/Vivosight_data/\"\n",
    "scan_folder = \"data/scan_information/\"\n",
    "\n",
    "#For all subjects\n",
    "subject_ids = data_read.get_all_subject_ids(vivosight_folder)\n",
    "subjects_data = {}\n",
    "for subject_id in subject_ids:\n",
    "    subject_folder, scan_folder = data_read.collect_subject_vivosight_folder(subject_id, vivosight_folder, scan_folder)\n",
    "    subjects_data[subject_id] = data_read.process_subject_vivosight_data(subject_folder,scan_folder, \"bloodflow\")\n",
    "\n"
   ]
  },
  {
   "cell_type": "code",
   "execution_count": null,
   "id": "a6885653",
   "metadata": {},
   "outputs": [],
   "source": []
  }
 ],
 "metadata": {
  "kernelspec": {
   "display_name": "Python 3",
   "language": "python",
   "name": "python3"
  },
  "language_info": {
   "codemirror_mode": {
    "name": "ipython",
    "version": 3
   },
   "file_extension": ".py",
   "mimetype": "text/x-python",
   "name": "python",
   "nbconvert_exporter": "python",
   "pygments_lexer": "ipython3",
   "version": "3.12.1"
  }
 },
 "nbformat": 4,
 "nbformat_minor": 5
}
