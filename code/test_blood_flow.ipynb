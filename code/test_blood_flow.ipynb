{
 "cells": [
  {
   "cell_type": "code",
   "execution_count": null,
   "id": "98ebb246",
   "metadata": {},
   "outputs": [],
   "source": [
    "import data_read\n",
    "\n",
    "\n",
    "# Example for Vivosight and Epidermal Data\n",
    "vivosight_location = \"data/Vivosight_data/\"\n",
    "subject = \"A52\"\n",
    "subject_folder = data_read.collect_subject_vivosight_folder(subject, vivosight_location)\n",
    "subject_data = data_read.process_subject_vivosight_data(subject_folder[0], \"epidermal\")\n",
    "\n"
   ]
  },
  {
   "cell_type": "code",
   "execution_count": null,
   "id": "a51b1108",
   "metadata": {},
   "outputs": [],
   "source": [
    "# Scan and Epidermal Examples\n",
    "scan_location = \"data/scan_information/\"\n",
    "subject = \"A52_2\"\n",
    "subject_folder = data_read.collect_subject_scan_folder(subject, scan_location)\n",
    "subject_data = data_read.process_subject_scan_data(subject_folder[0], subject_data)\n"
   ]
  }
 ],
 "metadata": {
  "language_info": {
   "name": "python"
  }
 },
 "nbformat": 4,
 "nbformat_minor": 5
}
